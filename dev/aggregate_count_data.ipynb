{
 "cells": [
  {
   "attachments": {},
   "cell_type": "markdown",
   "metadata": {},
   "source": [
    "# Import Packages"
   ]
  },
  {
   "cell_type": "code",
   "execution_count": 7,
   "metadata": {},
   "outputs": [],
   "source": [
    "import numpy as np\n",
    "import pandas as pd\n",
    "import matplotlib.pyplot as plt\n",
    "import datetime as dt\n",
    "import seaborn as sns\n",
    "sns.set_theme(style=\"white\")\n",
    "sns.color_palette(\"Set2\")\n",
    "\n",
    "import scipy.stats as stats\n",
    "from scipy.interpolate import griddata\n",
    "\n",
    "from EN_data_cleaning import clean_electric_nation_data, split_sessions"
   ]
  },
  {
   "attachments": {},
   "cell_type": "markdown",
   "metadata": {},
   "source": [
    "# Load In Data"
   ]
  },
  {
   "cell_type": "code",
   "execution_count": 8,
   "metadata": {},
   "outputs": [],
   "source": [
    "CC_transaction_data = pd.read_excel('../data/electric_nation/CrowdChargeTransactions.xlsx', sheet_name='Transaction Data')\n",
    "GF_transaction_data = pd.read_excel('../data/electric_nation/GreenFluxTransactions.xlsx', sheet_name='Transaction Data')\n",
    "install_data = pd.read_excel('../data/electric_nation/ChargerInstall.xlsx', sheet_name='data')"
   ]
  },
  {
   "attachments": {},
   "cell_type": "markdown",
   "metadata": {},
   "source": [
    "# Clean Data"
   ]
  },
  {
   "cell_type": "code",
   "execution_count": 9,
   "metadata": {},
   "outputs": [],
   "source": [
    "session_df, install_df = clean_electric_nation_data(CC_transaction_data, GF_transaction_data, install_data)"
   ]
  },
  {
   "attachments": {},
   "cell_type": "markdown",
   "metadata": {},
   "source": [
    "# Analyse And Classify Battery Capacity"
   ]
  },
  {
   "cell_type": "code",
   "execution_count": 10,
   "metadata": {},
   "outputs": [
    {
     "data": {
      "text/plain": [
       "<Axes: >"
      ]
     },
     "execution_count": 10,
     "metadata": {},
     "output_type": "execute_result"
    },
    {
     "data": {
      "image/png": "[encoded data removed]",
      "text/plain": [
       "<Figure size 640x480 with 1 Axes>"
      ]
     },
     "metadata": {},
     "output_type": "display_data"
    }
   ],
   "source": [
    "install_df[install_df['PIVType'] == 'BEV'].CarkWh.hist()"
   ]
  },
  {
   "cell_type": "code",
   "execution_count": 11,
   "metadata": {},
   "outputs": [],
   "source": [
    "session_df['BatterySize'] = 0 # Small \n",
    "session_df.loc[session_df.CarkWh >= 50, 'BatterySize'] = 1 # Large"
   ]
  },
  {
   "cell_type": "code",
   "execution_count": 12,
   "metadata": {},
   "outputs": [
    {
     "data": {
      "text/html": [
       "<div>\n",
       "<style scoped>\n",
       "    .dataframe tbody tr th:only-of-type {\n",
       "        vertical-align: middle;\n",
       "    }\n",
       "\n",
       "    .dataframe tbody tr th {\n",
       "        vertical-align: top;\n",
       "    }\n",
       "\n",
       "    .dataframe thead th {\n",
       "        text-align: right;\n",
       "    }\n",
       "</style>\n",
       "<table border=\"1\" class=\"dataframe\">\n",
       "  <thead>\n",
       "    <tr style=\"text-align: right;\">\n",
       "      <th></th>\n",
       "      <th>TransactionID</th>\n",
       "      <th>ChargerID</th>\n",
       "      <th>ParticipantID</th>\n",
       "      <th>StartTime</th>\n",
       "      <th>StopTime</th>\n",
       "      <th>GroupID</th>\n",
       "      <th>Trial</th>\n",
       "      <th>AdjustedStartTime</th>\n",
       "      <th>AdjustedStopTime</th>\n",
       "      <th>SessionDurationM</th>\n",
       "      <th>...</th>\n",
       "      <th>ChargerInstallDate</th>\n",
       "      <th>CarMake</th>\n",
       "      <th>CarModel</th>\n",
       "      <th>PIVType</th>\n",
       "      <th>CarkW</th>\n",
       "      <th>CarkWh</th>\n",
       "      <th>ApproxChargingDurationH</th>\n",
       "      <th>ApproxChargingDurationM</th>\n",
       "      <th>ApproxEndCharge</th>\n",
       "      <th>BatterySize</th>\n",
       "    </tr>\n",
       "  </thead>\n",
       "  <tbody>\n",
       "    <tr>\n",
       "      <th>0</th>\n",
       "      <td>110244</td>\n",
       "      <td>36001617</td>\n",
       "      <td>EN1024</td>\n",
       "      <td>2017-07-04 11:18:00</td>\n",
       "      <td>2017-07-04 15:37:00</td>\n",
       "      <td>CC0001</td>\n",
       "      <td>1.0</td>\n",
       "      <td>2017-07-04 12:18:00</td>\n",
       "      <td>2017-07-04 16:37:00</td>\n",
       "      <td>259</td>\n",
       "      <td>...</td>\n",
       "      <td>2017-03-28</td>\n",
       "      <td>BMW</td>\n",
       "      <td>i3 BEV</td>\n",
       "      <td>BEV</td>\n",
       "      <td>7.0</td>\n",
       "      <td>33.0</td>\n",
       "      <td>4.012857</td>\n",
       "      <td>241</td>\n",
       "      <td>2017-07-04 16:19:00</td>\n",
       "      <td>0</td>\n",
       "    </tr>\n",
       "    <tr>\n",
       "      <th>1</th>\n",
       "      <td>106324</td>\n",
       "      <td>36000317</td>\n",
       "      <td>EN1156</td>\n",
       "      <td>2017-07-04 15:22:00</td>\n",
       "      <td>2017-07-04 17:18:00</td>\n",
       "      <td>CC0001</td>\n",
       "      <td>1.0</td>\n",
       "      <td>2017-07-04 16:22:00</td>\n",
       "      <td>2017-07-04 18:18:00</td>\n",
       "      <td>116</td>\n",
       "      <td>...</td>\n",
       "      <td>2017-03-27</td>\n",
       "      <td>BMW</td>\n",
       "      <td>i3 REX</td>\n",
       "      <td>REX</td>\n",
       "      <td>7.0</td>\n",
       "      <td>33.0</td>\n",
       "      <td>0.154286</td>\n",
       "      <td>9</td>\n",
       "      <td>2017-07-04 16:31:00</td>\n",
       "      <td>0</td>\n",
       "    </tr>\n",
       "    <tr>\n",
       "      <th>2</th>\n",
       "      <td>112104</td>\n",
       "      <td>36002117</td>\n",
       "      <td>EN1115</td>\n",
       "      <td>2017-07-04 16:36:00</td>\n",
       "      <td>2017-07-05 07:18:00</td>\n",
       "      <td>CC0001</td>\n",
       "      <td>1.0</td>\n",
       "      <td>2017-07-04 17:36:00</td>\n",
       "      <td>2017-07-05 08:18:00</td>\n",
       "      <td>882</td>\n",
       "      <td>...</td>\n",
       "      <td>2017-03-24</td>\n",
       "      <td>BMW</td>\n",
       "      <td>i8</td>\n",
       "      <td>PHEV</td>\n",
       "      <td>3.6</td>\n",
       "      <td>7.1</td>\n",
       "      <td>0.825000</td>\n",
       "      <td>50</td>\n",
       "      <td>2017-07-04 18:26:00</td>\n",
       "      <td>0</td>\n",
       "    </tr>\n",
       "    <tr>\n",
       "      <th>3</th>\n",
       "      <td>106325</td>\n",
       "      <td>36000317</td>\n",
       "      <td>EN1156</td>\n",
       "      <td>2017-07-04 19:12:00</td>\n",
       "      <td>2017-07-05 15:17:00</td>\n",
       "      <td>CC0001</td>\n",
       "      <td>1.0</td>\n",
       "      <td>2017-07-04 20:12:00</td>\n",
       "      <td>2017-07-05 16:17:00</td>\n",
       "      <td>1205</td>\n",
       "      <td>...</td>\n",
       "      <td>2017-03-27</td>\n",
       "      <td>BMW</td>\n",
       "      <td>i3 REX</td>\n",
       "      <td>REX</td>\n",
       "      <td>7.0</td>\n",
       "      <td>33.0</td>\n",
       "      <td>0.400000</td>\n",
       "      <td>24</td>\n",
       "      <td>2017-07-04 20:36:00</td>\n",
       "      <td>0</td>\n",
       "    </tr>\n",
       "    <tr>\n",
       "      <th>4</th>\n",
       "      <td>109032</td>\n",
       "      <td>36001317</td>\n",
       "      <td>EN1131</td>\n",
       "      <td>2017-07-05 11:46:00</td>\n",
       "      <td>2017-07-05 18:00:00</td>\n",
       "      <td>CC0001</td>\n",
       "      <td>1.0</td>\n",
       "      <td>2017-07-05 12:46:00</td>\n",
       "      <td>2017-07-05 19:00:00</td>\n",
       "      <td>374</td>\n",
       "      <td>...</td>\n",
       "      <td>2017-03-29</td>\n",
       "      <td>Tesla</td>\n",
       "      <td>Model S</td>\n",
       "      <td>BEV</td>\n",
       "      <td>7.0</td>\n",
       "      <td>75.0</td>\n",
       "      <td>2.622857</td>\n",
       "      <td>157</td>\n",
       "      <td>2017-07-05 15:23:00</td>\n",
       "      <td>1</td>\n",
       "    </tr>\n",
       "  </tbody>\n",
       "</table>\n",
       "<p>5 rows × 24 columns</p>\n",
       "</div>"
      ],
      "text/plain": [
       "   TransactionID ChargerID ParticipantID           StartTime  \\\n",
       "0         110244  36001617        EN1024 2017-07-04 11:18:00   \n",
       "1         106324  36000317        EN1156 2017-07-04 15:22:00   \n",
       "2         112104  36002117        EN1115 2017-07-04 16:36:00   \n",
       "3         106325  36000317        EN1156 2017-07-04 19:12:00   \n",
       "4         109032  36001317        EN1131 2017-07-05 11:46:00   \n",
       "\n",
       "             StopTime GroupID  Trial   AdjustedStartTime    AdjustedStopTime  \\\n",
       "0 2017-07-04 15:37:00  CC0001    1.0 2017-07-04 12:18:00 2017-07-04 16:37:00   \n",
       "1 2017-07-04 17:18:00  CC0001    1.0 2017-07-04 16:22:00 2017-07-04 18:18:00   \n",
       "2 2017-07-05 07:18:00  CC0001    1.0 2017-07-04 17:36:00 2017-07-05 08:18:00   \n",
       "3 2017-07-05 15:17:00  CC0001    1.0 2017-07-04 20:12:00 2017-07-05 16:17:00   \n",
       "4 2017-07-05 18:00:00  CC0001    1.0 2017-07-05 12:46:00 2017-07-05 19:00:00   \n",
       "\n",
       "   SessionDurationM  ...  ChargerInstallDate CarMake  CarModel PIVType CarkW  \\\n",
       "0               259  ...          2017-03-28     BMW    i3 BEV     BEV   7.0   \n",
       "1               116  ...          2017-03-27     BMW    i3 REX     REX   7.0   \n",
       "2               882  ...          2017-03-24     BMW        i8    PHEV   3.6   \n",
       "3              1205  ...          2017-03-27     BMW    i3 REX     REX   7.0   \n",
       "4               374  ...          2017-03-29   Tesla   Model S     BEV   7.0   \n",
       "\n",
       "  CarkWh ApproxChargingDurationH ApproxChargingDurationM     ApproxEndCharge  \\\n",
       "0   33.0                4.012857                     241 2017-07-04 16:19:00   \n",
       "1   33.0                0.154286                       9 2017-07-04 16:31:00   \n",
       "2    7.1                0.825000                      50 2017-07-04 18:26:00   \n",
       "3   33.0                0.400000                      24 2017-07-04 20:36:00   \n",
       "4   75.0                2.622857                     157 2017-07-05 15:23:00   \n",
       "\n",
       "   BatterySize  \n",
       "0            0  \n",
       "1            0  \n",
       "2            0  \n",
       "3            0  \n",
       "4            1  \n",
       "\n",
       "[5 rows x 24 columns]"
      ]
     },
     "execution_count": 12,
     "metadata": {},
     "output_type": "execute_result"
    }
   ],
   "source": [
    "session_df.head()"
   ]
  },
  {
   "attachments": {},
   "cell_type": "markdown",
   "metadata": {},
   "source": [
    "# Split Data"
   ]
  },
  {
   "cell_type": "code",
   "execution_count": 13,
   "metadata": {},
   "outputs": [],
   "source": [
    "# session_df_split = split_sessions(session_df)"
   ]
  },
  {
   "cell_type": "code",
   "execution_count": 14,
   "metadata": {},
   "outputs": [],
   "source": [
    "bev_df = session_df[session_df.PIVType == 'BEV']"
   ]
  },
  {
   "cell_type": "code",
   "execution_count": 15,
   "metadata": {},
   "outputs": [],
   "source": [
    "phev_df = session_df[session_df.PIVType == 'PHEV']"
   ]
  },
  {
   "attachments": {},
   "cell_type": "markdown",
   "metadata": {},
   "source": [
    "# Create the Working Dataset"
   ]
  },
  {
   "attachments": {},
   "cell_type": "markdown",
   "metadata": {},
   "source": [
    "## Find a suitable Date Range"
   ]
  },
  {
   "cell_type": "code",
   "execution_count": 16,
   "metadata": {},
   "outputs": [],
   "source": [
    "# print('First BEV session: ' + str(bev_df.AdjustedStartTime.iloc[0].floor(freq='D') - dt.timedelta(days=1)))\n",
    "# print('First PHEV session: ' + str(phev_df.AdjustedStartTime.iloc[0].floor(freq='D') - dt.timedelta(days=1)))\n",
    "# print('Last BEV session: ' + str(bev_df.AdjustedStopTime.iloc[-1].ceil(freq='D') - dt.timedelta(hours=1) - dt.timedelta(days=3)))\n",
    "# print('Last BEV session: ' + str(phev_df.AdjustedStopTime.iloc[-1].ceil(freq='D') - dt.timedelta(hours=1) - dt.timedelta(days=3)))"
   ]
  },
  {
   "attachments": {},
   "cell_type": "markdown",
   "metadata": {},
   "source": [
    "We will use the date range that is the union of BEV and PHEV activity (i.e. they both share the same start time, but since the last BEV session is 3 weeks prior to the lest PHEV session, we will use the former as our limit for the date range.)"
   ]
  },
  {
   "cell_type": "code",
   "execution_count": 17,
   "metadata": {},
   "outputs": [],
   "source": [
    "def calculate_dt_range(df):\n",
    "    start = str(df.AdjustedStartTime.iloc[0].floor(freq='D'))\n",
    "    end = str(df.AdjustedStopTime.iloc[-1].ceil(freq='D') - dt.timedelta(hours=1))\n",
    "    dt_range = pd.date_range(start, end, freq = 'H')\n",
    "    return dt_range"
   ]
  },
  {
   "cell_type": "code",
   "execution_count": 18,
   "metadata": {},
   "outputs": [
    {
     "data": {
      "text/plain": [
       "DatetimeIndex(['2017-07-04 00:00:00', '2017-07-04 01:00:00',\n",
       "               '2017-07-04 02:00:00', '2017-07-04 03:00:00',\n",
       "               '2017-07-04 04:00:00', '2017-07-04 05:00:00',\n",
       "               '2017-07-04 06:00:00', '2017-07-04 07:00:00',\n",
       "               '2017-07-04 08:00:00', '2017-07-04 09:00:00',\n",
       "               ...\n",
       "               '2018-12-27 14:00:00', '2018-12-27 15:00:00',\n",
       "               '2018-12-27 16:00:00', '2018-12-27 17:00:00',\n",
       "               '2018-12-27 18:00:00', '2018-12-27 19:00:00',\n",
       "               '2018-12-27 20:00:00', '2018-12-27 21:00:00',\n",
       "               '2018-12-27 22:00:00', '2018-12-27 23:00:00'],\n",
       "              dtype='datetime64[ns]', length=13008, freq='H')"
      ]
     },
     "execution_count": 18,
     "metadata": {},
     "output_type": "execute_result"
    }
   ],
   "source": [
    "dt_range = calculate_dt_range(session_df)\n",
    "dt_range"
   ]
  },
  {
   "cell_type": "code",
   "execution_count": 19,
   "metadata": {},
   "outputs": [],
   "source": [
    "# start = str(session_df.AdjustedStartTime.iloc[0].floor(freq='D') - dt.timedelta(days=1))\n",
    "# end = str(session_df.AdjustedStopTime.iloc[-1].ceil(freq='D') - dt.timedelta(hours=1) - dt.timedelta(days=2))\n",
    "# dt_range = pd.date_range(start, end, freq = 'H')\n",
    "# dt_range"
   ]
  },
  {
   "attachments": {},
   "cell_type": "markdown",
   "metadata": {},
   "source": [
    "## Number of EVs charging"
   ]
  },
  {
   "cell_type": "code",
   "execution_count": 20,
   "metadata": {},
   "outputs": [],
   "source": [
    "def count_n_charging(df, dt_range, BatterySize):\n",
    "    N_charging = []\n",
    "    for d in dt_range:\n",
    "        N_charging.append(len(df[(df.AdjustedStartTime <= d) & (df.ApproxEndCharge >= d) & (df.BatterySize == BatterySize)]))\n",
    "    return np.array(N_charging)"
   ]
  },
  {
   "cell_type": "code",
   "execution_count": 21,
   "metadata": {},
   "outputs": [],
   "source": [
    "N_small_bev_charging = count_n_charging(bev_df, dt_range, BatterySize=0) # Small Battery BEVs\n",
    "N_large_bev_charging = count_n_charging(bev_df, dt_range, BatterySize=1) # Large Battery BEVs\n",
    "N_phev_charging = count_n_charging(phev_df, dt_range, BatterySize=0) # (Small Battery) PHEVs"
   ]
  },
  {
   "cell_type": "code",
   "execution_count": 22,
   "metadata": {},
   "outputs": [
    {
     "data": {
      "text/plain": [
       "13008"
      ]
     },
     "execution_count": 22,
     "metadata": {},
     "output_type": "execute_result"
    }
   ],
   "source": [
    "len(N_small_bev_charging)"
   ]
  },
  {
   "cell_type": "code",
   "execution_count": 23,
   "metadata": {},
   "outputs": [
    {
     "data": {
      "text/plain": [
       "13008"
      ]
     },
     "execution_count": 23,
     "metadata": {},
     "output_type": "execute_result"
    }
   ],
   "source": [
    "len(N_large_bev_charging)"
   ]
  },
  {
   "cell_type": "code",
   "execution_count": 24,
   "metadata": {},
   "outputs": [
    {
     "data": {
      "text/plain": [
       "13008"
      ]
     },
     "execution_count": 24,
     "metadata": {},
     "output_type": "execute_result"
    }
   ],
   "source": [
    "len(N_phev_charging)"
   ]
  },
  {
   "attachments": {},
   "cell_type": "markdown",
   "metadata": {},
   "source": [
    "## Month"
   ]
  },
  {
   "cell_type": "code",
   "execution_count": 25,
   "metadata": {},
   "outputs": [
    {
     "data": {
      "text/plain": [
       "CategoricalIndex([ 7,  7,  7,  7,  7,  7,  7,  7,  7,  7,\n",
       "                  ...\n",
       "                  12, 12, 12, 12, 12, 12, 12, 12, 12, 12],\n",
       "                 categories=[1, 2, 3, 4, ..., 9, 10, 11, 12], ordered=False, dtype='category', length=13008)"
      ]
     },
     "execution_count": 25,
     "metadata": {},
     "output_type": "execute_result"
    }
   ],
   "source": [
    "month = dt_range.month.astype('category')\n",
    "month"
   ]
  },
  {
   "attachments": {},
   "cell_type": "markdown",
   "metadata": {},
   "source": [
    "## Weekday"
   ]
  },
  {
   "cell_type": "code",
   "execution_count": 26,
   "metadata": {},
   "outputs": [
    {
     "data": {
      "text/plain": [
       "CategoricalIndex([1, 1, 1, 1, 1, 1, 1, 1, 1, 1,\n",
       "                  ...\n",
       "                  3, 3, 3, 3, 3, 3, 3, 3, 3, 3],\n",
       "                 categories=[0, 1, 2, 3, 4, 5, 6], ordered=False, dtype='category', length=13008)"
      ]
     },
     "execution_count": 26,
     "metadata": {},
     "output_type": "execute_result"
    }
   ],
   "source": [
    "day = dt_range.weekday.astype('category')\n",
    "day"
   ]
  },
  {
   "attachments": {},
   "cell_type": "markdown",
   "metadata": {},
   "source": [
    "## Time"
   ]
  },
  {
   "cell_type": "code",
   "execution_count": 27,
   "metadata": {},
   "outputs": [
    {
     "data": {
      "text/plain": [
       "CategoricalIndex([ 0,  1,  2,  3,  4,  5,  6,  7,  8,  9,\n",
       "                  ...\n",
       "                  14, 15, 16, 17, 18, 19, 20, 21, 22, 23],\n",
       "                 categories=[0, 1, 2, 3, ..., 20, 21, 22, 23], ordered=False, dtype='category', length=13008)"
      ]
     },
     "execution_count": 27,
     "metadata": {},
     "output_type": "execute_result"
    }
   ],
   "source": [
    "t = dt_range.hour.astype('category')\n",
    "t"
   ]
  },
  {
   "attachments": {},
   "cell_type": "markdown",
   "metadata": {},
   "source": [
    "## Number of Active EVs"
   ]
  },
  {
   "attachments": {},
   "cell_type": "markdown",
   "metadata": {},
   "source": [
    "I Need to redo how I was computing this for robustness and better accuracy. I need to use a moving window to count the number of unique users charging their vehicles in the last week."
   ]
  },
  {
   "cell_type": "code",
   "execution_count": 28,
   "metadata": {},
   "outputs": [],
   "source": [
    "def count_n_active(df, dt_range, BatterySize):\n",
    "    N_active = []\n",
    "    for i in range(len(dt_range)):\n",
    "        end = dt_range[i]\n",
    "        start = dt_range[i] - dt.timedelta(weeks=1)\n",
    "        N_active.append(len(df[(df.AdjustedStartTime <= end) & (df.ApproxEndCharge >= start) & (df.BatterySize == BatterySize)]))\n",
    "    return np.array(N_active)"
   ]
  },
  {
   "cell_type": "code",
   "execution_count": 29,
   "metadata": {},
   "outputs": [],
   "source": [
    "N_small_bev_active = count_n_active(bev_df, dt_range, BatterySize=0)\n",
    "N_large_bev_active = count_n_active(bev_df, dt_range, BatterySize=1)\n",
    "N_phev_active = count_n_active(phev_df, dt_range, BatterySize=0)"
   ]
  },
  {
   "cell_type": "code",
   "execution_count": 30,
   "metadata": {},
   "outputs": [
    {
     "data": {
      "text/plain": [
       "13008"
      ]
     },
     "execution_count": 30,
     "metadata": {},
     "output_type": "execute_result"
    }
   ],
   "source": [
    "len(N_small_bev_active)"
   ]
  },
  {
   "cell_type": "code",
   "execution_count": 31,
   "metadata": {},
   "outputs": [
    {
     "data": {
      "text/plain": [
       "[<matplotlib.lines.Line2D at 0x16e3f9960>]"
      ]
     },
     "execution_count": 31,
     "metadata": {},
     "output_type": "execute_result"
    },
    {
     "data": {
      "image/png": "[encoded data removed]",
      "text/plain": [
       "<Figure size 640x480 with 1 Axes>"
      ]
     },
     "metadata": {},
     "output_type": "display_data"
    }
   ],
   "source": [
    "plt.plot(N_small_bev_active)"
   ]
  },
  {
   "cell_type": "code",
   "execution_count": 32,
   "metadata": {},
   "outputs": [
    {
     "data": {
      "text/plain": [
       "[<matplotlib.lines.Line2D at 0x2881340a0>]"
      ]
     },
     "execution_count": 32,
     "metadata": {},
     "output_type": "execute_result"
    },
    {
     "data": {
      "image/png": "[encoded data removed]",
      "text/plain": [
       "<Figure size 640x480 with 1 Axes>"
      ]
     },
     "metadata": {},
     "output_type": "display_data"
    }
   ],
   "source": [
    "plt.plot(N_large_bev_active)"
   ]
  },
  {
   "cell_type": "code",
   "execution_count": 33,
   "metadata": {},
   "outputs": [
    {
     "data": {
      "text/plain": [
       "[<matplotlib.lines.Line2D at 0x28814e650>]"
      ]
     },
     "execution_count": 33,
     "metadata": {},
     "output_type": "execute_result"
    },
    {
     "data": {
      "image/png": "[encoded data removed]",
      "text/plain": [
       "<Figure size 640x480 with 1 Axes>"
      ]
     },
     "metadata": {},
     "output_type": "display_data"
    }
   ],
   "source": [
    "plt.plot(N_phev_active)"
   ]
  },
  {
   "cell_type": "code",
   "execution_count": 34,
   "metadata": {},
   "outputs": [],
   "source": [
    "def calculate_n_not_charging(n_active, n_charging):\n",
    "    n_not_charging = n_active - n_charging\n",
    "    n_not_charging = n_not_charging.astype('int32')\n",
    "    return n_not_charging"
   ]
  },
  {
   "cell_type": "code",
   "execution_count": 35,
   "metadata": {},
   "outputs": [],
   "source": [
    "N_small_bev_not_charging = calculate_n_not_charging(N_small_bev_active, N_small_bev_charging)\n",
    "N_large_bev_not_charging = calculate_n_not_charging(N_large_bev_active, N_large_bev_charging)\n",
    "N_phev_not_charging = calculate_n_not_charging(N_phev_active, N_phev_charging)"
   ]
  },
  {
   "attachments": {},
   "cell_type": "markdown",
   "metadata": {},
   "source": [
    "## The DataFrame"
   ]
  },
  {
   "cell_type": "code",
   "execution_count": 36,
   "metadata": {},
   "outputs": [],
   "source": [
    "small_bev_data = {\n",
    "    'DateTime': dt_range,\n",
    "    'Charging': N_small_bev_charging,\n",
    "    'Not_charging': N_small_bev_not_charging,\n",
    "    'Month': month,\n",
    "    'Day': day,\n",
    "    'Time': t,\n",
    "    'N_active': N_small_bev_active,\n",
    "    'PIV': 'BEV',\n",
    "    'Large_battery': 0\n",
    "}\n",
    "\n",
    "large_bev_data = {\n",
    "    'DateTime': dt_range,\n",
    "    'Charging': N_large_bev_charging,\n",
    "    'Not_charging': N_large_bev_not_charging,\n",
    "    'Month': month,\n",
    "    'Day': day,\n",
    "    'Time': t,\n",
    "    'N_active': N_large_bev_active,\n",
    "    'PIV': 'BEV',\n",
    "    'Large_battery': 1\n",
    "}\n",
    "\n",
    "phev_data = {\n",
    "    'DateTime': dt_range,\n",
    "    'Charging': N_phev_charging,\n",
    "    'Not_charging': N_phev_not_charging,\n",
    "    'Month': month,\n",
    "    'Day': day,\n",
    "    'Time': t,\n",
    "    'N_active': N_phev_active,\n",
    "    'PIV': 'PHEV',\n",
    "    'Large_battery': 0\n",
    "}"
   ]
  },
  {
   "cell_type": "code",
   "execution_count": 37,
   "metadata": {},
   "outputs": [],
   "source": [
    "df = pd.concat([pd.DataFrame(data = small_bev_data), pd.DataFrame(data = large_bev_data), pd.DataFrame(data = phev_data)], ignore_index=True)"
   ]
  },
  {
   "cell_type": "code",
   "execution_count": 38,
   "metadata": {},
   "outputs": [],
   "source": [
    "df['PIV'] = df['PIV'].astype('category')"
   ]
  },
  {
   "cell_type": "code",
   "execution_count": 39,
   "metadata": {},
   "outputs": [
    {
     "data": {
      "text/html": [
       "<div>\n",
       "<style scoped>\n",
       "    .dataframe tbody tr th:only-of-type {\n",
       "        vertical-align: middle;\n",
       "    }\n",
       "\n",
       "    .dataframe tbody tr th {\n",
       "        vertical-align: top;\n",
       "    }\n",
       "\n",
       "    .dataframe thead th {\n",
       "        text-align: right;\n",
       "    }\n",
       "</style>\n",
       "<table border=\"1\" class=\"dataframe\">\n",
       "  <thead>\n",
       "    <tr style=\"text-align: right;\">\n",
       "      <th></th>\n",
       "      <th>DateTime</th>\n",
       "      <th>Charging</th>\n",
       "      <th>Not_charging</th>\n",
       "      <th>Month</th>\n",
       "      <th>Day</th>\n",
       "      <th>Time</th>\n",
       "      <th>N_active</th>\n",
       "      <th>PIV</th>\n",
       "      <th>Large_battery</th>\n",
       "    </tr>\n",
       "  </thead>\n",
       "  <tbody>\n",
       "    <tr>\n",
       "      <th>0</th>\n",
       "      <td>2017-07-04 00:00:00</td>\n",
       "      <td>0</td>\n",
       "      <td>0</td>\n",
       "      <td>7</td>\n",
       "      <td>1</td>\n",
       "      <td>0</td>\n",
       "      <td>0</td>\n",
       "      <td>BEV</td>\n",
       "      <td>0</td>\n",
       "    </tr>\n",
       "    <tr>\n",
       "      <th>1</th>\n",
       "      <td>2017-07-04 01:00:00</td>\n",
       "      <td>0</td>\n",
       "      <td>0</td>\n",
       "      <td>7</td>\n",
       "      <td>1</td>\n",
       "      <td>1</td>\n",
       "      <td>0</td>\n",
       "      <td>BEV</td>\n",
       "      <td>0</td>\n",
       "    </tr>\n",
       "    <tr>\n",
       "      <th>2</th>\n",
       "      <td>2017-07-04 02:00:00</td>\n",
       "      <td>0</td>\n",
       "      <td>0</td>\n",
       "      <td>7</td>\n",
       "      <td>1</td>\n",
       "      <td>2</td>\n",
       "      <td>0</td>\n",
       "      <td>BEV</td>\n",
       "      <td>0</td>\n",
       "    </tr>\n",
       "    <tr>\n",
       "      <th>3</th>\n",
       "      <td>2017-07-04 03:00:00</td>\n",
       "      <td>0</td>\n",
       "      <td>0</td>\n",
       "      <td>7</td>\n",
       "      <td>1</td>\n",
       "      <td>3</td>\n",
       "      <td>0</td>\n",
       "      <td>BEV</td>\n",
       "      <td>0</td>\n",
       "    </tr>\n",
       "    <tr>\n",
       "      <th>4</th>\n",
       "      <td>2017-07-04 04:00:00</td>\n",
       "      <td>0</td>\n",
       "      <td>0</td>\n",
       "      <td>7</td>\n",
       "      <td>1</td>\n",
       "      <td>4</td>\n",
       "      <td>0</td>\n",
       "      <td>BEV</td>\n",
       "      <td>0</td>\n",
       "    </tr>\n",
       "  </tbody>\n",
       "</table>\n",
       "</div>"
      ],
      "text/plain": [
       "             DateTime  Charging  Not_charging Month Day Time  N_active  PIV  \\\n",
       "0 2017-07-04 00:00:00         0             0     7   1    0         0  BEV   \n",
       "1 2017-07-04 01:00:00         0             0     7   1    1         0  BEV   \n",
       "2 2017-07-04 02:00:00         0             0     7   1    2         0  BEV   \n",
       "3 2017-07-04 03:00:00         0             0     7   1    3         0  BEV   \n",
       "4 2017-07-04 04:00:00         0             0     7   1    4         0  BEV   \n",
       "\n",
       "   Large_battery  \n",
       "0              0  \n",
       "1              0  \n",
       "2              0  \n",
       "3              0  \n",
       "4              0  "
      ]
     },
     "execution_count": 39,
     "metadata": {},
     "output_type": "execute_result"
    }
   ],
   "source": [
    "df.head()"
   ]
  },
  {
   "cell_type": "code",
   "execution_count": 40,
   "metadata": {},
   "outputs": [
    {
     "name": "stdout",
     "output_type": "stream",
     "text": [
      "<class 'pandas.core.frame.DataFrame'>\n",
      "RangeIndex: 39024 entries, 0 to 39023\n",
      "Data columns (total 9 columns):\n",
      " #   Column         Non-Null Count  Dtype         \n",
      "---  ------         --------------  -----         \n",
      " 0   DateTime       39024 non-null  datetime64[ns]\n",
      " 1   Charging       39024 non-null  int64         \n",
      " 2   Not_charging   39024 non-null  int32         \n",
      " 3   Month          39024 non-null  category      \n",
      " 4   Day            39024 non-null  category      \n",
      " 5   Time           39024 non-null  category      \n",
      " 6   N_active       39024 non-null  int64         \n",
      " 7   PIV            39024 non-null  category      \n",
      " 8   Large_battery  39024 non-null  int64         \n",
      "dtypes: category(4), datetime64[ns](1), int32(1), int64(3)\n",
      "memory usage: 1.5 MB\n"
     ]
    }
   ],
   "source": [
    "df.info()"
   ]
  },
  {
   "cell_type": "code",
   "execution_count": 41,
   "metadata": {},
   "outputs": [
    {
     "data": {
      "text/html": [
       "<div>\n",
       "<style scoped>\n",
       "    .dataframe tbody tr th:only-of-type {\n",
       "        vertical-align: middle;\n",
       "    }\n",
       "\n",
       "    .dataframe tbody tr th {\n",
       "        vertical-align: top;\n",
       "    }\n",
       "\n",
       "    .dataframe thead th {\n",
       "        text-align: right;\n",
       "    }\n",
       "</style>\n",
       "<table border=\"1\" class=\"dataframe\">\n",
       "  <thead>\n",
       "    <tr style=\"text-align: right;\">\n",
       "      <th></th>\n",
       "      <th>DateTime</th>\n",
       "      <th>Charging</th>\n",
       "      <th>Not_charging</th>\n",
       "      <th>Month</th>\n",
       "      <th>Day</th>\n",
       "      <th>Time</th>\n",
       "      <th>N_active</th>\n",
       "      <th>PIV</th>\n",
       "      <th>Large_battery</th>\n",
       "    </tr>\n",
       "  </thead>\n",
       "  <tbody>\n",
       "    <tr>\n",
       "      <th>0</th>\n",
       "      <td>2017-07-04 00:00:00</td>\n",
       "      <td>0</td>\n",
       "      <td>0</td>\n",
       "      <td>7</td>\n",
       "      <td>1</td>\n",
       "      <td>0</td>\n",
       "      <td>0</td>\n",
       "      <td>BEV</td>\n",
       "      <td>0</td>\n",
       "    </tr>\n",
       "    <tr>\n",
       "      <th>1</th>\n",
       "      <td>2017-07-04 01:00:00</td>\n",
       "      <td>0</td>\n",
       "      <td>0</td>\n",
       "      <td>7</td>\n",
       "      <td>1</td>\n",
       "      <td>1</td>\n",
       "      <td>0</td>\n",
       "      <td>BEV</td>\n",
       "      <td>0</td>\n",
       "    </tr>\n",
       "    <tr>\n",
       "      <th>2</th>\n",
       "      <td>2017-07-04 02:00:00</td>\n",
       "      <td>0</td>\n",
       "      <td>0</td>\n",
       "      <td>7</td>\n",
       "      <td>1</td>\n",
       "      <td>2</td>\n",
       "      <td>0</td>\n",
       "      <td>BEV</td>\n",
       "      <td>0</td>\n",
       "    </tr>\n",
       "    <tr>\n",
       "      <th>3</th>\n",
       "      <td>2017-07-04 03:00:00</td>\n",
       "      <td>0</td>\n",
       "      <td>0</td>\n",
       "      <td>7</td>\n",
       "      <td>1</td>\n",
       "      <td>3</td>\n",
       "      <td>0</td>\n",
       "      <td>BEV</td>\n",
       "      <td>0</td>\n",
       "    </tr>\n",
       "    <tr>\n",
       "      <th>4</th>\n",
       "      <td>2017-07-04 04:00:00</td>\n",
       "      <td>0</td>\n",
       "      <td>0</td>\n",
       "      <td>7</td>\n",
       "      <td>1</td>\n",
       "      <td>4</td>\n",
       "      <td>0</td>\n",
       "      <td>BEV</td>\n",
       "      <td>0</td>\n",
       "    </tr>\n",
       "    <tr>\n",
       "      <th>...</th>\n",
       "      <td>...</td>\n",
       "      <td>...</td>\n",
       "      <td>...</td>\n",
       "      <td>...</td>\n",
       "      <td>...</td>\n",
       "      <td>...</td>\n",
       "      <td>...</td>\n",
       "      <td>...</td>\n",
       "      <td>...</td>\n",
       "    </tr>\n",
       "    <tr>\n",
       "      <th>39019</th>\n",
       "      <td>2018-12-27 19:00:00</td>\n",
       "      <td>0</td>\n",
       "      <td>2</td>\n",
       "      <td>12</td>\n",
       "      <td>3</td>\n",
       "      <td>19</td>\n",
       "      <td>2</td>\n",
       "      <td>PHEV</td>\n",
       "      <td>0</td>\n",
       "    </tr>\n",
       "    <tr>\n",
       "      <th>39020</th>\n",
       "      <td>2018-12-27 20:00:00</td>\n",
       "      <td>0</td>\n",
       "      <td>2</td>\n",
       "      <td>12</td>\n",
       "      <td>3</td>\n",
       "      <td>20</td>\n",
       "      <td>2</td>\n",
       "      <td>PHEV</td>\n",
       "      <td>0</td>\n",
       "    </tr>\n",
       "    <tr>\n",
       "      <th>39021</th>\n",
       "      <td>2018-12-27 21:00:00</td>\n",
       "      <td>0</td>\n",
       "      <td>2</td>\n",
       "      <td>12</td>\n",
       "      <td>3</td>\n",
       "      <td>21</td>\n",
       "      <td>2</td>\n",
       "      <td>PHEV</td>\n",
       "      <td>0</td>\n",
       "    </tr>\n",
       "    <tr>\n",
       "      <th>39022</th>\n",
       "      <td>2018-12-27 22:00:00</td>\n",
       "      <td>0</td>\n",
       "      <td>2</td>\n",
       "      <td>12</td>\n",
       "      <td>3</td>\n",
       "      <td>22</td>\n",
       "      <td>2</td>\n",
       "      <td>PHEV</td>\n",
       "      <td>0</td>\n",
       "    </tr>\n",
       "    <tr>\n",
       "      <th>39023</th>\n",
       "      <td>2018-12-27 23:00:00</td>\n",
       "      <td>0</td>\n",
       "      <td>2</td>\n",
       "      <td>12</td>\n",
       "      <td>3</td>\n",
       "      <td>23</td>\n",
       "      <td>2</td>\n",
       "      <td>PHEV</td>\n",
       "      <td>0</td>\n",
       "    </tr>\n",
       "  </tbody>\n",
       "</table>\n",
       "<p>39024 rows × 9 columns</p>\n",
       "</div>"
      ],
      "text/plain": [
       "                 DateTime  Charging  Not_charging Month Day Time  N_active  \\\n",
       "0     2017-07-04 00:00:00         0             0     7   1    0         0   \n",
       "1     2017-07-04 01:00:00         0             0     7   1    1         0   \n",
       "2     2017-07-04 02:00:00         0             0     7   1    2         0   \n",
       "3     2017-07-04 03:00:00         0             0     7   1    3         0   \n",
       "4     2017-07-04 04:00:00         0             0     7   1    4         0   \n",
       "...                   ...       ...           ...   ...  ..  ...       ...   \n",
       "39019 2018-12-27 19:00:00         0             2    12   3   19         2   \n",
       "39020 2018-12-27 20:00:00         0             2    12   3   20         2   \n",
       "39021 2018-12-27 21:00:00         0             2    12   3   21         2   \n",
       "39022 2018-12-27 22:00:00         0             2    12   3   22         2   \n",
       "39023 2018-12-27 23:00:00         0             2    12   3   23         2   \n",
       "\n",
       "        PIV  Large_battery  \n",
       "0       BEV              0  \n",
       "1       BEV              0  \n",
       "2       BEV              0  \n",
       "3       BEV              0  \n",
       "4       BEV              0  \n",
       "...     ...            ...  \n",
       "39019  PHEV              0  \n",
       "39020  PHEV              0  \n",
       "39021  PHEV              0  \n",
       "39022  PHEV              0  \n",
       "39023  PHEV              0  \n",
       "\n",
       "[39024 rows x 9 columns]"
      ]
     },
     "execution_count": 41,
     "metadata": {},
     "output_type": "execute_result"
    }
   ],
   "source": [
    "df"
   ]
  },
  {
   "attachments": {},
   "cell_type": "markdown",
   "metadata": {},
   "source": [
    "## Save Dataset as .csv"
   ]
  },
  {
   "cell_type": "code",
   "execution_count": 42,
   "metadata": {},
   "outputs": [],
   "source": [
    "df.to_csv('../data/hourly_data.csv', index=False)"
   ]
  }
 ],
 "metadata": {
  "kernelspec": {
   "display_name": "ev-modelling-2",
   "language": "python",
   "name": "python3"
  },
  "language_info": {
   "codemirror_mode": {
    "name": "ipython",
    "version": 3
   },
   "file_extension": ".py",
   "mimetype": "text/x-python",
   "name": "python",
   "nbconvert_exporter": "python",
   "pygments_lexer": "ipython3",
   "version": "3.10.9"
  },
  "orig_nbformat": 4,
  "vscode": {
   "interpreter": {
    "hash": "351e080a4529d42622c9ae7deef4228fb784fc4d7248492029e01a2f3ecd8935"
   }
  }
 },
 "nbformat": 4,
 "nbformat_minor": 2
}
