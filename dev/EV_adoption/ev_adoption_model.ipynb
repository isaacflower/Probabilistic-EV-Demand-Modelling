{
 "cells": [
  {
   "cell_type": "markdown",
   "metadata": {},
   "source": []
  },
  {
   "cell_type": "code",
   "execution_count": null,
   "metadata": {},
   "outputs": [],
   "source": [
    "# Data and Maths\n",
    "import pandas as pd\n",
    "import numpy as np\n",
    "import math\n",
    "\n",
    "# Plotting\n",
    "import matplotlib.pyplot as plt\n",
    "import seaborn as sns\n",
    "\n",
    "# Statistics\n",
    "import scipy.stats as stats\n",
    "from scipy.stats import binom, norm\n",
    "\n",
    "# Geocoding\n",
    "import geopandas as gpd\n",
    "from geopy.geocoders import Nominatim # For folium maps to return centering coordinates\n",
    "import osmnx as ox # To return the geometry of a target region or city\n",
    "import ssl # For the certificates to make the osmnx work\n",
    "ssl._create_default_https_context = ssl._create_unverified_context"
   ]
  }
 ],
 "metadata": {
  "kernelspec": {
   "display_name": "probabilistic_ev_demand_modelling",
   "language": "python",
   "name": "python3"
  },
  "language_info": {
   "name": "python",
   "version": "3.10.9"
  },
  "orig_nbformat": 4
 },
 "nbformat": 4,
 "nbformat_minor": 2
}
